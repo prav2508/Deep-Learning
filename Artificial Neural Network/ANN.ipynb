{
  "nbformat": 4,
  "nbformat_minor": 0,
  "metadata": {
    "colab": {
      "name": "ANN.ipynb",
      "provenance": [],
      "collapsed_sections": []
    },
    "kernelspec": {
      "name": "python3",
      "display_name": "Python 3"
    }
  },
  "cells": [
    {
      "cell_type": "markdown",
      "metadata": {
        "id": "U3ZbDZ0lPpG1",
        "colab_type": "text"
      },
      "source": [
        "# **Artificial Neural Networks**"
      ]
    },
    {
      "cell_type": "code",
      "metadata": {
        "id": "rajjnJTzPzPh",
        "colab_type": "code",
        "colab": {
          "base_uri": "https://localhost:8080/",
          "height": 35
        },
        "outputId": "f832348e-ca49-482b-ad4a-2f57826676a9"
      },
      "source": [
        "import numpy as np\n",
        "import pandas as pd\n",
        "import tensorflow as tf\n",
        "tf.__version__"
      ],
      "execution_count": 37,
      "outputs": [
        {
          "output_type": "execute_result",
          "data": {
            "application/vnd.google.colaboratory.intrinsic+json": {
              "type": "string"
            },
            "text/plain": [
              "'2.3.0'"
            ]
          },
          "metadata": {
            "tags": []
          },
          "execution_count": 37
        }
      ]
    },
    {
      "cell_type": "code",
      "metadata": {
        "id": "jg6nAl_FP24a",
        "colab_type": "code",
        "colab": {
          "base_uri": "https://localhost:8080/",
          "height": 151
        },
        "outputId": "b72f984b-38ed-4899-82e7-3cd525456256"
      },
      "source": [
        "dataset = pd.read_csv('Churn_Modelling.csv')\n",
        "X = dataset.iloc[:, 3:-1].values\n",
        "y = dataset.iloc[:, -1].values\n",
        "print(X)\n",
        "print(y)\n"
      ],
      "execution_count": 38,
      "outputs": [
        {
          "output_type": "stream",
          "text": [
            "[[619 'France' 'Female' ... 1 1 101348.88]\n",
            " [608 'Spain' 'Female' ... 0 1 112542.58]\n",
            " [502 'France' 'Female' ... 1 0 113931.57]\n",
            " ...\n",
            " [709 'France' 'Female' ... 0 1 42085.58]\n",
            " [772 'Germany' 'Male' ... 1 0 92888.52]\n",
            " [792 'France' 'Female' ... 1 0 38190.78]]\n",
            "[1 0 1 ... 1 1 0]\n"
          ],
          "name": "stdout"
        }
      ]
    },
    {
      "cell_type": "code",
      "metadata": {
        "id": "Db44gBuGRR8z",
        "colab_type": "code",
        "colab": {
          "base_uri": "https://localhost:8080/",
          "height": 34
        },
        "outputId": "ddb3d8fb-1d4d-481b-e23f-ec499c1bf42d"
      },
      "source": [
        "from sklearn.preprocessing import LabelEncoder\n",
        "le = LabelEncoder()\n",
        "X[:, 2] = le.fit_transform(X[:, 2])\n",
        "print(X[0])"
      ],
      "execution_count": 39,
      "outputs": [
        {
          "output_type": "stream",
          "text": [
            "[619 'France' 0 42 2 0.0 1 1 1 101348.88]\n"
          ],
          "name": "stdout"
        }
      ]
    },
    {
      "cell_type": "code",
      "metadata": {
        "id": "7EHE-wIHRYGI",
        "colab_type": "code",
        "colab": {
          "base_uri": "https://localhost:8080/",
          "height": 34
        },
        "outputId": "1a170f26-00df-41eb-f39e-03e2dd8bac06"
      },
      "source": [
        "from sklearn.compose import ColumnTransformer\n",
        "from sklearn.preprocessing import OneHotEncoder\n",
        "ct = ColumnTransformer(transformers=[('encoder', OneHotEncoder(), [1])], remainder='passthrough')\n",
        "X = np.array(ct.fit_transform(X))\n",
        "print(X[0])"
      ],
      "execution_count": 40,
      "outputs": [
        {
          "output_type": "stream",
          "text": [
            "[1.0 0.0 0.0 619 0 42 2 0.0 1 1 1 101348.88]\n"
          ],
          "name": "stdout"
        }
      ]
    },
    {
      "cell_type": "code",
      "metadata": {
        "id": "eHujAWDwR-8L",
        "colab_type": "code",
        "colab": {}
      },
      "source": [
        "from sklearn.model_selection import train_test_split\n",
        "X_train, X_test, y_train, y_test = train_test_split(X, y, test_size = 0.2, random_state = 0)\n"
      ],
      "execution_count": 41,
      "outputs": []
    },
    {
      "cell_type": "code",
      "metadata": {
        "id": "zCx25kD2SBlY",
        "colab_type": "code",
        "colab": {}
      },
      "source": [
        "from sklearn.preprocessing import StandardScaler\n",
        "sc = StandardScaler()\n",
        "X_train = sc.fit_transform(X_train)\n",
        "X_test = sc.transform(X_test)"
      ],
      "execution_count": 42,
      "outputs": []
    },
    {
      "cell_type": "markdown",
      "metadata": {
        "id": "gLQGbwRPS81l",
        "colab_type": "text"
      },
      "source": [
        "**Building the ANN**"
      ]
    },
    {
      "cell_type": "code",
      "metadata": {
        "id": "hRloehV7SDg_",
        "colab_type": "code",
        "colab": {}
      },
      "source": [
        "ann = tf.keras.models.Sequential()\n",
        "ann.add(tf.keras.layers.Dense(units=6,activation='relu'))\n",
        "ann.add(tf.keras.layers.Dense(units=6,activation='relu'))\n",
        "ann.add(tf.keras.layers.Dense(units=1,activation='sigmoid'))"
      ],
      "execution_count": 43,
      "outputs": []
    },
    {
      "cell_type": "markdown",
      "metadata": {
        "id": "cDGE1wDXTL-G",
        "colab_type": "text"
      },
      "source": [
        "**Training the ANN**"
      ]
    },
    {
      "cell_type": "code",
      "metadata": {
        "id": "ZkUY51zRS3UU",
        "colab_type": "code",
        "colab": {
          "base_uri": "https://localhost:8080/",
          "height": 1000
        },
        "outputId": "1448ce81-1420-49e9-eb75-accb3aa53f4e"
      },
      "source": [
        "ann.compile(optimizer='adam', loss='binary_crossentropy', metrics = ['accuracy'])\n",
        "ann.fit(X_train, y_train, batch_size = 32, epochs = 100)"
      ],
      "execution_count": 48,
      "outputs": [
        {
          "output_type": "stream",
          "text": [
            "Epoch 1/100\n",
            "250/250 [==============================] - 0s 874us/step - loss: 0.3313 - accuracy: 0.8650\n",
            "Epoch 2/100\n",
            "250/250 [==============================] - 0s 887us/step - loss: 0.3308 - accuracy: 0.8637\n",
            "Epoch 3/100\n",
            "250/250 [==============================] - 0s 865us/step - loss: 0.3306 - accuracy: 0.8658\n",
            "Epoch 4/100\n",
            "250/250 [==============================] - 0s 916us/step - loss: 0.3307 - accuracy: 0.8639\n",
            "Epoch 5/100\n",
            "250/250 [==============================] - 0s 963us/step - loss: 0.3310 - accuracy: 0.8650\n",
            "Epoch 6/100\n",
            "250/250 [==============================] - 0s 861us/step - loss: 0.3312 - accuracy: 0.8622\n",
            "Epoch 7/100\n",
            "250/250 [==============================] - 0s 909us/step - loss: 0.3310 - accuracy: 0.8640\n",
            "Epoch 8/100\n",
            "250/250 [==============================] - 0s 900us/step - loss: 0.3310 - accuracy: 0.8627\n",
            "Epoch 9/100\n",
            "250/250 [==============================] - 0s 955us/step - loss: 0.3313 - accuracy: 0.8631\n",
            "Epoch 10/100\n",
            "250/250 [==============================] - 0s 910us/step - loss: 0.3307 - accuracy: 0.8633\n",
            "Epoch 11/100\n",
            "250/250 [==============================] - 0s 873us/step - loss: 0.3309 - accuracy: 0.8645\n",
            "Epoch 12/100\n",
            "250/250 [==============================] - 0s 899us/step - loss: 0.3307 - accuracy: 0.8625\n",
            "Epoch 13/100\n",
            "250/250 [==============================] - 0s 910us/step - loss: 0.3308 - accuracy: 0.8625\n",
            "Epoch 14/100\n",
            "250/250 [==============================] - 0s 912us/step - loss: 0.3306 - accuracy: 0.8635\n",
            "Epoch 15/100\n",
            "250/250 [==============================] - 0s 891us/step - loss: 0.3309 - accuracy: 0.8646\n",
            "Epoch 16/100\n",
            "250/250 [==============================] - 0s 884us/step - loss: 0.3309 - accuracy: 0.8622\n",
            "Epoch 17/100\n",
            "250/250 [==============================] - 0s 914us/step - loss: 0.3305 - accuracy: 0.8643\n",
            "Epoch 18/100\n",
            "250/250 [==============================] - 0s 929us/step - loss: 0.3309 - accuracy: 0.8634\n",
            "Epoch 19/100\n",
            "250/250 [==============================] - 0s 945us/step - loss: 0.3309 - accuracy: 0.8631\n",
            "Epoch 20/100\n",
            "250/250 [==============================] - 0s 885us/step - loss: 0.3303 - accuracy: 0.8646\n",
            "Epoch 21/100\n",
            "250/250 [==============================] - 0s 873us/step - loss: 0.3305 - accuracy: 0.8637\n",
            "Epoch 22/100\n",
            "250/250 [==============================] - 0s 946us/step - loss: 0.3308 - accuracy: 0.8639\n",
            "Epoch 23/100\n",
            "250/250 [==============================] - 0s 899us/step - loss: 0.3306 - accuracy: 0.8640\n",
            "Epoch 24/100\n",
            "250/250 [==============================] - 0s 895us/step - loss: 0.3305 - accuracy: 0.8633\n",
            "Epoch 25/100\n",
            "250/250 [==============================] - 0s 897us/step - loss: 0.3307 - accuracy: 0.8635\n",
            "Epoch 26/100\n",
            "250/250 [==============================] - 0s 910us/step - loss: 0.3307 - accuracy: 0.8633\n",
            "Epoch 27/100\n",
            "250/250 [==============================] - 0s 946us/step - loss: 0.3301 - accuracy: 0.8626\n",
            "Epoch 28/100\n",
            "250/250 [==============================] - 0s 871us/step - loss: 0.3302 - accuracy: 0.8630\n",
            "Epoch 29/100\n",
            "250/250 [==============================] - 0s 944us/step - loss: 0.3301 - accuracy: 0.8634\n",
            "Epoch 30/100\n",
            "250/250 [==============================] - 0s 935us/step - loss: 0.3305 - accuracy: 0.8625\n",
            "Epoch 31/100\n",
            "250/250 [==============================] - 0s 954us/step - loss: 0.3299 - accuracy: 0.8654\n",
            "Epoch 32/100\n",
            "250/250 [==============================] - 0s 912us/step - loss: 0.3302 - accuracy: 0.8630\n",
            "Epoch 33/100\n",
            "250/250 [==============================] - 0s 892us/step - loss: 0.3303 - accuracy: 0.8627\n",
            "Epoch 34/100\n",
            "250/250 [==============================] - 0s 947us/step - loss: 0.3305 - accuracy: 0.8634\n",
            "Epoch 35/100\n",
            "250/250 [==============================] - 0s 944us/step - loss: 0.3303 - accuracy: 0.8619\n",
            "Epoch 36/100\n",
            "250/250 [==============================] - 0s 1ms/step - loss: 0.3301 - accuracy: 0.8622\n",
            "Epoch 37/100\n",
            "250/250 [==============================] - 0s 948us/step - loss: 0.3305 - accuracy: 0.8633\n",
            "Epoch 38/100\n",
            "250/250 [==============================] - 0s 905us/step - loss: 0.3302 - accuracy: 0.8648\n",
            "Epoch 39/100\n",
            "250/250 [==============================] - 0s 979us/step - loss: 0.3302 - accuracy: 0.8631\n",
            "Epoch 40/100\n",
            "250/250 [==============================] - 0s 919us/step - loss: 0.3303 - accuracy: 0.8650\n",
            "Epoch 41/100\n",
            "250/250 [==============================] - 0s 996us/step - loss: 0.3302 - accuracy: 0.8629\n",
            "Epoch 42/100\n",
            "250/250 [==============================] - 0s 935us/step - loss: 0.3306 - accuracy: 0.8636\n",
            "Epoch 43/100\n",
            "250/250 [==============================] - 0s 927us/step - loss: 0.3302 - accuracy: 0.8633\n",
            "Epoch 44/100\n",
            "250/250 [==============================] - 0s 1ms/step - loss: 0.3301 - accuracy: 0.8635\n",
            "Epoch 45/100\n",
            "250/250 [==============================] - 0s 1ms/step - loss: 0.3304 - accuracy: 0.8615\n",
            "Epoch 46/100\n",
            "250/250 [==============================] - 0s 975us/step - loss: 0.3302 - accuracy: 0.8615\n",
            "Epoch 47/100\n",
            "250/250 [==============================] - 0s 984us/step - loss: 0.3300 - accuracy: 0.8643\n",
            "Epoch 48/100\n",
            "250/250 [==============================] - 0s 905us/step - loss: 0.3306 - accuracy: 0.8641\n",
            "Epoch 49/100\n",
            "250/250 [==============================] - 0s 951us/step - loss: 0.3305 - accuracy: 0.8631\n",
            "Epoch 50/100\n",
            "250/250 [==============================] - 0s 1ms/step - loss: 0.3299 - accuracy: 0.8636\n",
            "Epoch 51/100\n",
            "250/250 [==============================] - 0s 997us/step - loss: 0.3298 - accuracy: 0.8640\n",
            "Epoch 52/100\n",
            "250/250 [==============================] - 0s 1ms/step - loss: 0.3304 - accuracy: 0.8616\n",
            "Epoch 53/100\n",
            "250/250 [==============================] - 0s 1ms/step - loss: 0.3301 - accuracy: 0.8633\n",
            "Epoch 54/100\n",
            "250/250 [==============================] - 0s 1ms/step - loss: 0.3299 - accuracy: 0.8631\n",
            "Epoch 55/100\n",
            "250/250 [==============================] - 0s 1ms/step - loss: 0.3301 - accuracy: 0.8626\n",
            "Epoch 56/100\n",
            "250/250 [==============================] - 0s 1ms/step - loss: 0.3298 - accuracy: 0.8640\n",
            "Epoch 57/100\n",
            "250/250 [==============================] - 0s 1ms/step - loss: 0.3298 - accuracy: 0.8631\n",
            "Epoch 58/100\n",
            "250/250 [==============================] - 0s 891us/step - loss: 0.3296 - accuracy: 0.8634\n",
            "Epoch 59/100\n",
            "250/250 [==============================] - 0s 940us/step - loss: 0.3301 - accuracy: 0.8625\n",
            "Epoch 60/100\n",
            "250/250 [==============================] - 0s 928us/step - loss: 0.3295 - accuracy: 0.8636\n",
            "Epoch 61/100\n",
            "250/250 [==============================] - 0s 960us/step - loss: 0.3294 - accuracy: 0.8615\n",
            "Epoch 62/100\n",
            "250/250 [==============================] - 0s 936us/step - loss: 0.3298 - accuracy: 0.8640\n",
            "Epoch 63/100\n",
            "250/250 [==============================] - 0s 913us/step - loss: 0.3298 - accuracy: 0.8624\n",
            "Epoch 64/100\n",
            "250/250 [==============================] - 0s 893us/step - loss: 0.3294 - accuracy: 0.8648\n",
            "Epoch 65/100\n",
            "250/250 [==============================] - 0s 929us/step - loss: 0.3298 - accuracy: 0.8639\n",
            "Epoch 66/100\n",
            "250/250 [==============================] - 0s 921us/step - loss: 0.3294 - accuracy: 0.8650\n",
            "Epoch 67/100\n",
            "250/250 [==============================] - 0s 915us/step - loss: 0.3296 - accuracy: 0.8639\n",
            "Epoch 68/100\n",
            "250/250 [==============================] - 0s 981us/step - loss: 0.3295 - accuracy: 0.8637\n",
            "Epoch 69/100\n",
            "250/250 [==============================] - 0s 958us/step - loss: 0.3291 - accuracy: 0.8629\n",
            "Epoch 70/100\n",
            "250/250 [==============================] - 0s 953us/step - loss: 0.3293 - accuracy: 0.8631\n",
            "Epoch 71/100\n",
            "250/250 [==============================] - 0s 947us/step - loss: 0.3297 - accuracy: 0.8635\n",
            "Epoch 72/100\n",
            "250/250 [==============================] - 0s 963us/step - loss: 0.3297 - accuracy: 0.8644\n",
            "Epoch 73/100\n",
            "250/250 [==============================] - 0s 949us/step - loss: 0.3294 - accuracy: 0.8640\n",
            "Epoch 74/100\n",
            "250/250 [==============================] - 0s 920us/step - loss: 0.3290 - accuracy: 0.8644\n",
            "Epoch 75/100\n",
            "250/250 [==============================] - 0s 941us/step - loss: 0.3295 - accuracy: 0.8639\n",
            "Epoch 76/100\n",
            "250/250 [==============================] - 0s 910us/step - loss: 0.3290 - accuracy: 0.8643\n",
            "Epoch 77/100\n",
            "250/250 [==============================] - 0s 921us/step - loss: 0.3292 - accuracy: 0.8643\n",
            "Epoch 78/100\n",
            "250/250 [==============================] - 0s 901us/step - loss: 0.3289 - accuracy: 0.8622\n",
            "Epoch 79/100\n",
            "250/250 [==============================] - 0s 955us/step - loss: 0.3294 - accuracy: 0.8636\n",
            "Epoch 80/100\n",
            "250/250 [==============================] - 0s 957us/step - loss: 0.3292 - accuracy: 0.8648\n",
            "Epoch 81/100\n",
            "250/250 [==============================] - 0s 911us/step - loss: 0.3292 - accuracy: 0.8635\n",
            "Epoch 82/100\n",
            "250/250 [==============================] - 0s 925us/step - loss: 0.3291 - accuracy: 0.8646\n",
            "Epoch 83/100\n",
            "250/250 [==============================] - 0s 922us/step - loss: 0.3291 - accuracy: 0.8645\n",
            "Epoch 84/100\n",
            "250/250 [==============================] - 0s 1ms/step - loss: 0.3293 - accuracy: 0.8631\n",
            "Epoch 85/100\n",
            "250/250 [==============================] - 0s 909us/step - loss: 0.3289 - accuracy: 0.8620\n",
            "Epoch 86/100\n",
            "250/250 [==============================] - 0s 902us/step - loss: 0.3290 - accuracy: 0.8648\n",
            "Epoch 87/100\n",
            "250/250 [==============================] - 0s 910us/step - loss: 0.3290 - accuracy: 0.8637\n",
            "Epoch 88/100\n",
            "250/250 [==============================] - 0s 904us/step - loss: 0.3290 - accuracy: 0.8635\n",
            "Epoch 89/100\n",
            "250/250 [==============================] - 0s 939us/step - loss: 0.3289 - accuracy: 0.8620\n",
            "Epoch 90/100\n",
            "250/250 [==============================] - 0s 934us/step - loss: 0.3286 - accuracy: 0.8649\n",
            "Epoch 91/100\n",
            "250/250 [==============================] - 0s 966us/step - loss: 0.3284 - accuracy: 0.8641\n",
            "Epoch 92/100\n",
            "250/250 [==============================] - 0s 922us/step - loss: 0.3287 - accuracy: 0.8650\n",
            "Epoch 93/100\n",
            "250/250 [==============================] - 0s 935us/step - loss: 0.3289 - accuracy: 0.8640\n",
            "Epoch 94/100\n",
            "250/250 [==============================] - 0s 905us/step - loss: 0.3290 - accuracy: 0.8643\n",
            "Epoch 95/100\n",
            "250/250 [==============================] - 0s 906us/step - loss: 0.3290 - accuracy: 0.8637\n",
            "Epoch 96/100\n",
            "250/250 [==============================] - 0s 933us/step - loss: 0.3288 - accuracy: 0.8651\n",
            "Epoch 97/100\n",
            "250/250 [==============================] - 0s 1ms/step - loss: 0.3282 - accuracy: 0.8658\n",
            "Epoch 98/100\n",
            "250/250 [==============================] - 0s 1ms/step - loss: 0.3287 - accuracy: 0.8635\n",
            "Epoch 99/100\n",
            "250/250 [==============================] - 0s 1ms/step - loss: 0.3285 - accuracy: 0.8630\n",
            "Epoch 100/100\n",
            "250/250 [==============================] - 0s 892us/step - loss: 0.3284 - accuracy: 0.8644\n"
          ],
          "name": "stdout"
        },
        {
          "output_type": "execute_result",
          "data": {
            "text/plain": [
              "<tensorflow.python.keras.callbacks.History at 0x7f776cf67780>"
            ]
          },
          "metadata": {
            "tags": []
          },
          "execution_count": 48
        }
      ]
    },
    {
      "cell_type": "code",
      "metadata": {
        "id": "ynDxiiDCUMy8",
        "colab_type": "code",
        "colab": {
          "base_uri": "https://localhost:8080/",
          "height": 34
        },
        "outputId": "17701b67-6286-4e14-f1e8-34d4d9dedade"
      },
      "source": [
        "print(ann.predict(sc.transform([[1, 0, 0, 600, 1, 40, 3, 60000, 2, 1, 1, 50000]])) > 0.5)"
      ],
      "execution_count": 49,
      "outputs": [
        {
          "output_type": "stream",
          "text": [
            "[[False]]\n"
          ],
          "name": "stdout"
        }
      ]
    },
    {
      "cell_type": "code",
      "metadata": {
        "id": "8pwF19XXUqG9",
        "colab_type": "code",
        "colab": {
          "base_uri": "https://localhost:8080/",
          "height": 134
        },
        "outputId": "c0b418cb-c69b-4138-c35e-062d4a1530b0"
      },
      "source": [
        "y_pred = ann.predict(X_test)\n",
        "y_pred = (y_pred > 0.5)\n",
        "print(np.concatenate((y_pred.reshape(len(y_pred),1), y_test.reshape(len(y_test),1)),1))"
      ],
      "execution_count": 50,
      "outputs": [
        {
          "output_type": "stream",
          "text": [
            "[[0 0]\n",
            " [0 1]\n",
            " [0 0]\n",
            " ...\n",
            " [0 0]\n",
            " [0 0]\n",
            " [0 0]]\n"
          ],
          "name": "stdout"
        }
      ]
    },
    {
      "cell_type": "code",
      "metadata": {
        "id": "Cr-XSIBlUt8K",
        "colab_type": "code",
        "colab": {
          "base_uri": "https://localhost:8080/",
          "height": 67
        },
        "outputId": "18a8aa98-cb51-44cc-b30d-82ff9f30d69f"
      },
      "source": [
        "from sklearn.metrics import confusion_matrix, accuracy_score\n",
        "cm = confusion_matrix(y_test, y_pred)\n",
        "print(cm)\n",
        "print('Accuracy - {}%'.format(accuracy_score(y_test, y_pred)*100))"
      ],
      "execution_count": 51,
      "outputs": [
        {
          "output_type": "stream",
          "text": [
            "[[1513   82]\n",
            " [ 198  207]]\n",
            "Accuracy - 86.0%\n"
          ],
          "name": "stdout"
        }
      ]
    }
  ]
}